{
 "cells": [
  {
   "cell_type": "code",
   "execution_count": 1,
   "metadata": {},
   "outputs": [],
   "source": [
    "# Dependencies\n",
    "import requests\n",
    "from pprint import pprint\n",
    "import pandas as pd"
   ]
  },
  {
   "cell_type": "code",
   "execution_count": 2,
   "metadata": {},
   "outputs": [
    {
     "data": {
      "text/html": [
       "<div>\n",
       "<style scoped>\n",
       "    .dataframe tbody tr th:only-of-type {\n",
       "        vertical-align: middle;\n",
       "    }\n",
       "\n",
       "    .dataframe tbody tr th {\n",
       "        vertical-align: top;\n",
       "    }\n",
       "\n",
       "    .dataframe thead th {\n",
       "        text-align: right;\n",
       "    }\n",
       "</style>\n",
       "<table border=\"1\" class=\"dataframe\">\n",
       "  <thead>\n",
       "    <tr style=\"text-align: right;\">\n",
       "      <th></th>\n",
       "      <th>MedianHHIncome</th>\n",
       "    </tr>\n",
       "    <tr>\n",
       "      <th>WardNumber</th>\n",
       "      <th></th>\n",
       "    </tr>\n",
       "  </thead>\n",
       "  <tbody>\n",
       "    <tr>\n",
       "      <th>1</th>\n",
       "      <td>60352</td>\n",
       "    </tr>\n",
       "    <tr>\n",
       "      <th>2</th>\n",
       "      <td>64543</td>\n",
       "    </tr>\n",
       "    <tr>\n",
       "      <th>3</th>\n",
       "      <td>81839</td>\n",
       "    </tr>\n",
       "    <tr>\n",
       "      <th>4</th>\n",
       "      <td>78617</td>\n",
       "    </tr>\n",
       "    <tr>\n",
       "      <th>5</th>\n",
       "      <td>80076</td>\n",
       "    </tr>\n",
       "  </tbody>\n",
       "</table>\n",
       "</div>"
      ],
      "text/plain": [
       "            MedianHHIncome\n",
       "WardNumber                \n",
       "1                    60352\n",
       "2                    64543\n",
       "3                    81839\n",
       "4                    78617\n",
       "5                    80076"
      ]
     },
     "execution_count": 2,
     "metadata": {},
     "output_type": "execute_result"
    }
   ],
   "source": [
    "wardHHIncome = pd.read_csv(\"Resources/Ward_HH_Income.csv\").set_index(\"WardNumber\")\n",
    "wardHHIncome.head()"
   ]
  },
  {
   "cell_type": "code",
   "execution_count": 5,
   "metadata": {},
   "outputs": [],
   "source": [
    "def ward_data(latitude, longitude):\n",
    "    ward_url = f\"https://represent.opennorth.ca/boundaries/?contains={latitude},{longitude}\"\n",
    "    to_wards = requests.get(ward_url).json()\n",
    "    ward_data = [[f\"Ward {to_wards['objects'][i]['external_id']}\",to_wards[\"objects\"][i][\"name\"],wardHHIncome.loc[int(to_wards['objects'][i]['external_id'])][\"MedianHHIncome\"]] for i in range(len(to_wards[\"objects\"])) if (to_wards[\"objects\"][i][\"boundary_set_name\"] == \"Toronto ward\") if (to_wards[\"objects\"][i][\"related\"][\"boundary_set_url\"] == \"/boundary-sets/toronto-wards-2010/\")]\n",
    "    print(f\"Ward number: {ward_data[0][0]} | Ward name: {ward_data[0][1]} | Median HH Income: {ward_data[0][2]}\" )\n",
    "    return ward_data\n"
   ]
  },
  {
   "cell_type": "code",
   "execution_count": 6,
   "metadata": {},
   "outputs": [
    {
     "name": "stdout",
     "output_type": "stream",
     "text": [
      "Ward number: Ward 25 | Ward name: Don Valley West (25) | Median HH Income: 98418\n"
     ]
    }
   ],
   "source": [
    "warddata=ward_data(43.7564392,-79.3607712)"
   ]
  },
  {
   "cell_type": "code",
   "execution_count": null,
   "metadata": {},
   "outputs": [],
   "source": []
  }
 ],
 "metadata": {
  "kernelspec": {
   "display_name": "Python 3",
   "language": "python",
   "name": "python3"
  },
  "language_info": {
   "codemirror_mode": {
    "name": "ipython",
    "version": 3
   },
   "file_extension": ".py",
   "mimetype": "text/x-python",
   "name": "python",
   "nbconvert_exporter": "python",
   "pygments_lexer": "ipython3",
   "version": "3.7.1"
  }
 },
 "nbformat": 4,
 "nbformat_minor": 2
}
